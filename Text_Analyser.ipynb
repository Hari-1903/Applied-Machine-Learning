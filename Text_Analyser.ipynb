{
  "nbformat": 4,
  "nbformat_minor": 0,
  "metadata": {
    "colab": {
      "provenance": [],
      "authorship_tag": "ABX9TyOpm32ZW1+3R6uRc5ppEqX1",
      "include_colab_link": true
    },
    "kernelspec": {
      "name": "python3",
      "display_name": "Python 3"
    },
    "language_info": {
      "name": "python"
    }
  },
  "cells": [
    {
      "cell_type": "markdown",
      "metadata": {
        "id": "view-in-github",
        "colab_type": "text"
      },
      "source": [
        "<a href=\"https://colab.research.google.com/github/Hari-1903/Applied-Machine-Learning/blob/main/Text_Analyser.ipynb\" target=\"_parent\"><img src=\"https://colab.research.google.com/assets/colab-badge.svg\" alt=\"Open In Colab\"/></a>"
      ]
    },
    {
      "cell_type": "markdown",
      "source": [
        "# **Analysing Text Data**"
      ],
      "metadata": {
        "id": "XQ6-uGjkgAZK"
      }
    },
    {
      "cell_type": "markdown",
      "source": [
        "## Preprocessing data using **tokenization**\n",
        "\n",
        "Tokenization is the process of dividing text into a set of meaningful pieces. These pieces are called\n",
        "tokens."
      ],
      "metadata": {
        "id": "8iOr9OOCgedI"
      }
    },
    {
      "cell_type": "code",
      "execution_count": null,
      "metadata": {
        "colab": {
          "base_uri": "https://localhost:8080/"
        },
        "id": "KsTBt2F0akWU",
        "outputId": "2bf20af0-d33f-42fa-da42-ee0cda2da099"
      },
      "outputs": [
        {
          "output_type": "stream",
          "name": "stderr",
          "text": [
            "[nltk_data] Downloading package punkt to /root/nltk_data...\n",
            "[nltk_data]   Unzipping tokenizers/punkt.zip.\n"
          ]
        },
        {
          "output_type": "stream",
          "name": "stdout",
          "text": [
            "['Are you curious about tokenization?', \"Let's see how it works!\", 'We need to analyze a couple of sentences with punctuations to see it in action.']\n"
          ]
        }
      ],
      "source": [
        "import nltk\n",
        "nltk.download('punkt')\n",
        "from nltk.tokenize import sent_tokenize\n",
        "text=\"Are you curious about tokenization? Let's see how it works! We need to analyze a couple of sentences with punctuations to see it in action.\"\n",
        "sent_tokenize_list=sent_tokenize(text)\n",
        "print(\"Sentence Word Tokenizer:\\n\")\n",
        "print(sent_tokenize_list)"
      ]
    },
    {
      "cell_type": "code",
      "source": [
        "from nltk.tokenize import word_tokenize\n",
        "print(\"Word Tokenizer: \\n\")\n",
        "print(word_tokenize(text))"
      ],
      "metadata": {
        "colab": {
          "base_uri": "https://localhost:8080/"
        },
        "id": "yB5Zabctcawd",
        "outputId": "c55913ce-4e74-4757-dec4-d2583f8154be"
      },
      "execution_count": null,
      "outputs": [
        {
          "output_type": "stream",
          "name": "stdout",
          "text": [
            "['Are', 'you', 'curious', 'about', 'tokenization', '?', 'Let', \"'s\", 'see', 'how', 'it', 'works', '!', 'We', 'need', 'to', 'analyze', 'a', 'couple', 'of', 'sentences', 'with', 'punctuations', 'to', 'see', 'it', 'in', 'action', '.']\n"
          ]
        }
      ]
    },
    {
      "cell_type": "code",
      "source": [
        "from nltk.tokenize import WordPunctTokenizer\n",
        "word_punct_tokenizer = WordPunctTokenizer()\n",
        "print(\"\\nWord punct tokenizer:\")\n",
        "print(word_punct_tokenizer.tokenize(text))"
      ],
      "metadata": {
        "colab": {
          "base_uri": "https://localhost:8080/"
        },
        "id": "LRQs3y9ucbMx",
        "outputId": "28e41f18-e5f8-4531-8f0a-4b082a170425"
      },
      "execution_count": null,
      "outputs": [
        {
          "output_type": "stream",
          "name": "stdout",
          "text": [
            "\n",
            "Word punct tokenizer:\n",
            "['Are', 'you', 'curious', 'about', 'tokenization', '?', 'Let', \"'\", 's', 'see', 'how', 'it', 'works', '!', 'We', 'need', 'to', 'analyze', 'a', 'couple', 'of', 'sentences', 'with', 'punctuations', 'to', 'see', 'it', 'in', 'action', '.']\n"
          ]
        }
      ]
    },
    {
      "cell_type": "markdown",
      "source": [
        "## **Stemming** text data\n",
        "\n",
        "The goal of stemming is to reduce these different forms into a common base form. This uses a heuristic process to\n",
        "cut off the ends of words to extract the base form."
      ],
      "metadata": {
        "id": "N5gQLTexgwIL"
      }
    },
    {
      "cell_type": "code",
      "source": [
        "from nltk.stem.porter import PorterStemmer\n",
        "from nltk.stem.lancaster import LancasterStemmer\n",
        "from nltk.stem.snowball import SnowballStemmer\n",
        "words=['airplane','eventually','dogs','eating','was','wolf','beaches','grounded','enjoying','goal','vision']\n",
        "stemmers=['PORTER','LANCASTER','SNOWBALL']\n",
        "\n",
        "stemmer_porter=PorterStemmer()\n",
        "stemmer_lancaster=LancasterStemmer()\n",
        "stemmer_snowball=SnowballStemmer('english')\n",
        "\n",
        "formatted_row='{:>16}'*(len(stemmers)+1)\n",
        "print('\\n',formatted_row.format('WORD',*stemmers),'\\n')\n",
        "\n",
        "for word in words:\n",
        "  stemmed_words=[stemmer_porter.stem(word),stemmer_lancaster.stem(word),stemmer_snowball.stem(word)]\n",
        "  print (formatted_row.format(word,*stemmed_words))"
      ],
      "metadata": {
        "colab": {
          "base_uri": "https://localhost:8080/"
        },
        "id": "2CrWZllndgU-",
        "outputId": "cc70c300-a539-4258-dc8b-a4453f0fa5b9"
      },
      "execution_count": null,
      "outputs": [
        {
          "output_type": "stream",
          "name": "stdout",
          "text": [
            "\n",
            "             WORD          PORTER       LANCASTER        SNOWBALL \n",
            "\n",
            "        airplane         airplan           airpl         airplan\n",
            "      eventually          eventu              ev          eventu\n",
            "            dogs             dog             dog             dog\n",
            "          eating             eat             eat             eat\n",
            "             was              wa             was             was\n",
            "            wolf            wolf            wolf            wolf\n",
            "         beaches           beach           beach           beach\n",
            "        grounded          ground          ground          ground\n",
            "        enjoying           enjoy           enjoy           enjoy\n",
            "            goal            goal            goal            goal\n",
            "          vision          vision             vis          vision\n"
          ]
        }
      ]
    },
    {
      "cell_type": "markdown",
      "source": [
        "## Converting text to its base using **Lemmatization**\n",
        "\n",
        "The goal of lemmatization is also to reduce words to their base forms, but this is a more structured\n",
        "approach."
      ],
      "metadata": {
        "id": "4xu8Ia5ChHAH"
      }
    },
    {
      "cell_type": "code",
      "source": [
        "from nltk.stem import WordNetLemmatizer\n",
        "import nltk\n",
        "nltk.download('wordnet')\n",
        "words=['airplane','eventually','dogs','eating','was','wolf','beaches','grounded','enjoying','goal','vision']\n",
        "lemmatizers=['NOUN LEMMATIZER','VERB LEMATIZER']\n",
        "lemmatizer_wordnet=WordNetLemmatizer()\n",
        "\n",
        "formatted_row='{:>24}'*(len(lemmatizers) + 1)\n",
        "print('\\n',formatted_row.format('WORD',*lemmatizers),'\\n')\n",
        "\n",
        "for word in words:\n",
        "  lemmatized_words=[lemmatizer_wordnet.lemmatize(word,pos='n'),lemmatizer_wordnet.lemmatize(word,pos='v')]\n",
        "  print(formatted_row.format(word,*lemmatized_words))"
      ],
      "metadata": {
        "colab": {
          "base_uri": "https://localhost:8080/"
        },
        "id": "q6KHubnJhwuh",
        "outputId": "217a6e33-0198-4077-b1e3-4efa7b1cfcb5"
      },
      "execution_count": null,
      "outputs": [
        {
          "output_type": "stream",
          "name": "stdout",
          "text": [
            "\n",
            "                     WORD         NOUN LEMMATIZER          VERB LEMATIZER \n",
            "\n",
            "                airplane                airplane                airplane\n",
            "              eventually              eventually              eventually\n",
            "                    dogs                     dog                     dog\n",
            "                  eating                  eating                     eat\n",
            "                     was                      wa                      be\n",
            "                    wolf                    wolf                    wolf\n",
            "                 beaches                   beach                   beach\n",
            "                grounded                grounded                  ground\n",
            "                enjoying                enjoying                   enjoy\n",
            "                    goal                    goal                    goal\n",
            "                  vision                  vision                  vision\n"
          ]
        },
        {
          "output_type": "stream",
          "name": "stderr",
          "text": [
            "[nltk_data] Downloading package wordnet to /root/nltk_data...\n",
            "[nltk_data]   Package wordnet is already up-to-date!\n"
          ]
        }
      ]
    }
  ]
}